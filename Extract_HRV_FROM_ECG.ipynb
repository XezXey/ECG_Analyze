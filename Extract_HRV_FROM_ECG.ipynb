{
  "nbformat": 4,
  "nbformat_minor": 0,
  "metadata": {
    "colab": {
      "name": "Extract_HRV_FROM_ECG.ipynb",
      "version": "0.3.2",
      "provenance": [],
      "include_colab_link": true
    },
    "kernelspec": {
      "name": "python3",
      "display_name": "Python 3"
    }
  },
  "cells": [
    {
      "cell_type": "markdown",
      "metadata": {
        "id": "view-in-github",
        "colab_type": "text"
      },
      "source": [
        "<a href=\"https://colab.research.google.com/github/XezXey/ECG_Analyze/blob/master/Extract_HRV_FROM_ECG.ipynb\" target=\"_parent\"><img src=\"https://colab.research.google.com/assets/colab-badge.svg\" alt=\"Open In Colab\"/></a>"
      ]
    },
    {
      "metadata": {
        "id": "CXLSnewWgoUj",
        "colab_type": "code",
        "colab": {}
      },
      "cell_type": "code",
      "source": [
        "%matplotlib inline\n",
        "import time\n",
        "import pylab as pl\n",
        "from IPython import display\n",
        "for i in range(10):\n",
        "    pl.plot(pl.randn(100))\n",
        "    display.clear_output(wait=True)\n",
        "    display.display(pl.gcf())\n",
        "    time.sleep(1.0)\n"
      ],
      "execution_count": 0,
      "outputs": []
    }
  ]
}